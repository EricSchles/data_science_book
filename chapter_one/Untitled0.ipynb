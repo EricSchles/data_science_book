{
 "metadata": {
  "name": ""
 },
 "nbformat": 3,
 "nbformat_minor": 0,
 "worksheets": [
  {
   "cells": [
    {
     "cell_type": "code",
     "collapsed": false,
     "input": [
      "to_process = \"hello,there,this,has,many,commas\"\n",
      "print to_process.split(\",\")\n"
     ],
     "language": "python",
     "metadata": {},
     "outputs": [
      {
       "output_type": "stream",
       "stream": "stdout",
       "text": [
        "['hello', 'there', 'this', 'has', 'many', 'commas']\n"
       ]
      }
     ],
     "prompt_number": 1
    },
    {
     "cell_type": "code",
     "collapsed": false,
     "input": [
      "to_process = \"This sentence isn't very interesting, but it's also got some important data: 591821\"\n",
      "print to_process.split(\"data:\")[1]\n"
     ],
     "language": "python",
     "metadata": {},
     "outputs": [
      {
       "output_type": "stream",
       "stream": "stdout",
       "text": [
        " 591821\n"
       ]
      }
     ],
     "prompt_number": 2
    },
    {
     "cell_type": "code",
     "collapsed": false,
     "input": [
      "listing = [1,2,3]\n",
      "listing[-3]"
     ],
     "language": "python",
     "metadata": {},
     "outputs": [
      {
       "metadata": {},
       "output_type": "pyout",
       "prompt_number": 10,
       "text": [
        "1"
       ]
      }
     ],
     "prompt_number": 10
    },
    {
     "cell_type": "code",
     "collapsed": false,
     "input": [
      "to_process = \"This sentence is also somewhat boring, but we have meaningful data here: 15098123 and then a bunch of garbage here.\"\n",
      "print to_process.split(\"here:\")[1].split(\"and\")[0]\n"
     ],
     "language": "python",
     "metadata": {},
     "outputs": [
      {
       "output_type": "stream",
       "stream": "stdout",
       "text": [
        " 15098123 \n"
       ]
      }
     ],
     "prompt_number": 11
    },
    {
     "cell_type": "code",
     "collapsed": false,
     "input": [
      "to_process = \"There is some meaningful data here: 123985 and here: 1290841 but also here: 102394\"\n",
      "new_listing = []\n",
      "for elem \n",
      "in to_process.split():\n",
      "    if elem.isdigit():\n",
      "        new_listing.append(i)\n",
      "print \" * \".join(new_listing)\n"
     ],
     "language": "python",
     "metadata": {},
     "outputs": [
      {
       "output_type": "stream",
       "stream": "stdout",
       "text": [
        "102394 * 102394 * 102394\n"
       ]
      }
     ],
     "prompt_number": 16
    },
    {
     "cell_type": "code",
     "collapsed": false,
     "input": [
      "from sklearn.metrics.pairwise import linear_kernel\n",
      "from sklearn.feature_extraction.text import TfidfVectorizer\n",
      "\n",
      "def cosine_similarity(documentA,documentB):\n",
      "    docs = [documentA,documentB]\n",
      "    tfidf = TfidfVectorizer().fit_transform(docs) \n",
      "    cosine_similarities = linear_kernel(tfidf[0:1], tfidf).flatten() \n",
      "    return cosine_similarities\n",
      "\n",
      "def doc_comparison(new_document,doc_list):\n",
      "    total = 0.0\n",
      "    for doc in doc_list:\n",
      "        total += cosine_similarity(new_document,doc)[1]\n",
      "    if total/len(doc_list) > 0.5: #play with this\n",
      "        return \"is similar enough\"\n",
      "    else:\n",
      "        return \"is not similar enough\"\n",
      "\n",
      "\n",
      "print doc_comparison(\"Hi there\",[\"Hi there\", \"hello there\"])\n"
     ],
     "language": "python",
     "metadata": {},
     "outputs": [
      {
       "output_type": "stream",
       "stream": "stdout",
       "text": [
        "is not similar enough\n"
       ]
      }
     ],
     "prompt_number": 23
    }
   ],
   "metadata": {}
  }
 ]
}